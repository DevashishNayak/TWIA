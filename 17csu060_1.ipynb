{
 "cells": [
  {
   "cell_type": "code",
   "execution_count": 1,
   "metadata": {},
   "outputs": [
    {
     "name": "stdout",
     "output_type": "stream",
     "text": [
      "Requirement already satisfied: nltk in c:\\users\\devas.laptop-5gl18cq7\\anaconda3\\lib\\site-packages (3.4.4)\n",
      "Requirement already satisfied: six in c:\\users\\devas.laptop-5gl18cq7\\anaconda3\\lib\\site-packages (from nltk) (1.12.0)\n"
     ]
    }
   ],
   "source": [
    "!pip install nltk"
   ]
  },
  {
   "cell_type": "code",
   "execution_count": 25,
   "metadata": {},
   "outputs": [
    {
     "data": {
      "text/plain": [
       "[('Hello', 'NNP'),\n",
       " ('welcome', 'NN'),\n",
       " ('to', 'TO'),\n",
       " ('the', 'DT'),\n",
       " ('world', 'NN'),\n",
       " ('of', 'IN'),\n",
       " ('to', 'TO'),\n",
       " ('learn', 'VB'),\n",
       " ('Categorizing', 'NNP'),\n",
       " ('and', 'CC'),\n",
       " ('POS', 'NNP'),\n",
       " ('Tagging', 'NNP'),\n",
       " ('with', 'IN'),\n",
       " ('NLTK', 'NNP'),\n",
       " ('and', 'CC'),\n",
       " ('Python', 'NNP')]"
      ]
     },
     "execution_count": 25,
     "metadata": {},
     "output_type": "execute_result"
    }
   ],
   "source": [
    "import nltk\n",
    "from nltk.tokenize import word_tokenize\n",
    "text = word_tokenize(\"Hello welcome to the world of to learn Categorizing and POS Tagging with NLTK and Python\")\n",
    "nltk.pos_tag(text)"
   ]
  },
  {
   "cell_type": "code",
   "execution_count": 15,
   "metadata": {},
   "outputs": [
    {
     "name": "stdout",
     "output_type": "stream",
     "text": [
      "['Hello', 'welcome', 'to', 'the', 'world', 'of', 'to', 'learn', 'Categorizing', 'and', 'POS', 'Tagging', 'with', 'NLTK', 'and', 'Python']\n",
      "['Hello welcome to the world of to learn Categorizing and POS Tagging with NLTK and Python.', 'INTRODUCTION TO NLTK']\n"
     ]
    }
   ],
   "source": [
    "word = word_tokenize(\"Hello welcome to the world of to learn Categorizing and POS Tagging with NLTK and Python\")\n",
    "print(word)\n",
    "from nltk.tokenize import sent_tokenize\n",
    "sent = sent_tokenize(\"Hello welcome to the world of to learn Categorizing and POS Tagging with NLTK and Python. INTRODUCTION TO NLTK\")\n",
    "print(sent)"
   ]
  },
  {
   "cell_type": "code",
   "execution_count": 26,
   "metadata": {},
   "outputs": [
    {
     "data": {
      "text/plain": [
       "'hello welcome to the world of to learn categorizing and pos tagging with nltk and python'"
      ]
     },
     "execution_count": 26,
     "metadata": {},
     "output_type": "execute_result"
    }
   ],
   "source": [
    "text = \"Hello welcome to the world of to learn Categorizing and POS Tagging with NLTK and Python\"\n",
    "lower_text = text.lower()\n",
    "lower_text"
   ]
  },
  {
   "cell_type": "code",
   "execution_count": 27,
   "metadata": {},
   "outputs": [
    {
     "data": {
      "text/plain": [
       "{'αλλα',\n",
       " 'αν',\n",
       " 'αντι',\n",
       " 'απο',\n",
       " 'αυτα',\n",
       " 'αυτεσ',\n",
       " 'αυτη',\n",
       " 'αυτο',\n",
       " 'αυτοι',\n",
       " 'αυτοσ',\n",
       " 'αυτουσ',\n",
       " 'αυτων',\n",
       " 'αἱ',\n",
       " 'αἳ',\n",
       " 'αἵ',\n",
       " 'αὐτόσ',\n",
       " 'αὐτὸς',\n",
       " 'αὖ',\n",
       " 'γάρ',\n",
       " 'γα',\n",
       " 'γα^',\n",
       " 'γε',\n",
       " 'για',\n",
       " 'γοῦν',\n",
       " 'γὰρ',\n",
       " \"δ'\",\n",
       " 'δέ',\n",
       " 'δή',\n",
       " 'δαί',\n",
       " 'δαίσ',\n",
       " 'δαὶ',\n",
       " 'δαὶς',\n",
       " 'δε',\n",
       " 'δεν',\n",
       " \"δι'\",\n",
       " 'διά',\n",
       " 'διὰ',\n",
       " 'δὲ',\n",
       " 'δὴ',\n",
       " 'δ’',\n",
       " 'εαν',\n",
       " 'ειμαι',\n",
       " 'ειμαστε',\n",
       " 'ειναι',\n",
       " 'εισαι',\n",
       " 'ειστε',\n",
       " 'εκεινα',\n",
       " 'εκεινεσ',\n",
       " 'εκεινη',\n",
       " 'εκεινο',\n",
       " 'εκεινοι',\n",
       " 'εκεινοσ',\n",
       " 'εκεινουσ',\n",
       " 'εκεινων',\n",
       " 'ενω',\n",
       " 'επ',\n",
       " 'επι',\n",
       " 'εἰ',\n",
       " 'εἰμί',\n",
       " 'εἰμὶ',\n",
       " 'εἰς',\n",
       " 'εἰσ',\n",
       " 'εἴ',\n",
       " 'εἴμι',\n",
       " 'εἴτε',\n",
       " 'η',\n",
       " 'θα',\n",
       " 'ισωσ',\n",
       " 'κ',\n",
       " 'καί',\n",
       " 'καίτοι',\n",
       " 'καθ',\n",
       " 'και',\n",
       " 'κατ',\n",
       " 'κατά',\n",
       " 'κατα',\n",
       " 'κατὰ',\n",
       " 'καὶ',\n",
       " 'κι',\n",
       " 'κἀν',\n",
       " 'κἂν',\n",
       " 'μέν',\n",
       " 'μή',\n",
       " 'μήτε',\n",
       " 'μα',\n",
       " 'με',\n",
       " 'μεθ',\n",
       " 'μετ',\n",
       " 'μετά',\n",
       " 'μετα',\n",
       " 'μετὰ',\n",
       " 'μη',\n",
       " 'μην',\n",
       " 'μἐν',\n",
       " 'μὲν',\n",
       " 'μὴ',\n",
       " 'μὴν',\n",
       " 'να',\n",
       " 'ο',\n",
       " 'οι',\n",
       " 'ομωσ',\n",
       " 'οπωσ',\n",
       " 'οσο',\n",
       " 'οτι',\n",
       " 'οἱ',\n",
       " 'οἳ',\n",
       " 'οἷς',\n",
       " 'οὐ',\n",
       " 'οὐδ',\n",
       " 'οὐδέ',\n",
       " 'οὐδείσ',\n",
       " 'οὐδεὶς',\n",
       " 'οὐδὲ',\n",
       " 'οὐδὲν',\n",
       " 'οὐκ',\n",
       " 'οὐχ',\n",
       " 'οὐχὶ',\n",
       " 'οὓς',\n",
       " 'οὔτε',\n",
       " 'οὕτω',\n",
       " 'οὕτως',\n",
       " 'οὕτωσ',\n",
       " 'οὖν',\n",
       " 'οὗ',\n",
       " 'οὗτος',\n",
       " 'οὗτοσ',\n",
       " 'παρ',\n",
       " 'παρά',\n",
       " 'παρα',\n",
       " 'παρὰ',\n",
       " 'περί',\n",
       " 'περὶ',\n",
       " 'ποια',\n",
       " 'ποιεσ',\n",
       " 'ποιο',\n",
       " 'ποιοι',\n",
       " 'ποιοσ',\n",
       " 'ποιουσ',\n",
       " 'ποιων',\n",
       " 'ποτε',\n",
       " 'που',\n",
       " 'ποῦ',\n",
       " 'προ',\n",
       " 'προσ',\n",
       " 'πρόσ',\n",
       " 'πρὸ',\n",
       " 'πρὸς',\n",
       " 'πως',\n",
       " 'πωσ',\n",
       " 'σε',\n",
       " 'στη',\n",
       " 'στην',\n",
       " 'στο',\n",
       " 'στον',\n",
       " 'σόσ',\n",
       " 'σύ',\n",
       " 'σύν',\n",
       " 'σὸς',\n",
       " 'σὺ',\n",
       " 'σὺν',\n",
       " 'τά',\n",
       " 'τήν',\n",
       " 'τί',\n",
       " 'τίς',\n",
       " 'τίσ',\n",
       " 'τα',\n",
       " 'ταῖς',\n",
       " 'τε',\n",
       " 'την',\n",
       " 'τησ',\n",
       " 'τι',\n",
       " 'τινα',\n",
       " 'τις',\n",
       " 'τισ',\n",
       " 'το',\n",
       " 'τοί',\n",
       " 'τοι',\n",
       " 'τοιοῦτος',\n",
       " 'τοιοῦτοσ',\n",
       " 'τον',\n",
       " 'τοτε',\n",
       " 'του',\n",
       " 'τούσ',\n",
       " 'τοὺς',\n",
       " 'τοῖς',\n",
       " 'τοῦ',\n",
       " 'των',\n",
       " 'τό',\n",
       " 'τόν',\n",
       " 'τότε',\n",
       " 'τὰ',\n",
       " 'τὰς',\n",
       " 'τὴν',\n",
       " 'τὸ',\n",
       " 'τὸν',\n",
       " 'τῆς',\n",
       " 'τῆσ',\n",
       " 'τῇ',\n",
       " 'τῶν',\n",
       " 'τῷ',\n",
       " 'ωσ',\n",
       " \"ἀλλ'\",\n",
       " 'ἀλλά',\n",
       " 'ἀλλὰ',\n",
       " 'ἀλλ’',\n",
       " 'ἀπ',\n",
       " 'ἀπό',\n",
       " 'ἀπὸ',\n",
       " 'ἀφ',\n",
       " 'ἂν',\n",
       " 'ἃ',\n",
       " 'ἄλλος',\n",
       " 'ἄλλοσ',\n",
       " 'ἄν',\n",
       " 'ἄρα',\n",
       " 'ἅμα',\n",
       " 'ἐάν',\n",
       " 'ἐγώ',\n",
       " 'ἐγὼ',\n",
       " 'ἐκ',\n",
       " 'ἐμόσ',\n",
       " 'ἐμὸς',\n",
       " 'ἐν',\n",
       " 'ἐξ',\n",
       " 'ἐπί',\n",
       " 'ἐπεὶ',\n",
       " 'ἐπὶ',\n",
       " 'ἐστι',\n",
       " 'ἐφ',\n",
       " 'ἐὰν',\n",
       " 'ἑαυτοῦ',\n",
       " 'ἔτι',\n",
       " 'ἡ',\n",
       " 'ἢ',\n",
       " 'ἣ',\n",
       " 'ἤ',\n",
       " 'ἥ',\n",
       " 'ἧς',\n",
       " 'ἵνα',\n",
       " 'ὁ',\n",
       " 'ὃ',\n",
       " 'ὃν',\n",
       " 'ὃς',\n",
       " 'ὅ',\n",
       " 'ὅδε',\n",
       " 'ὅθεν',\n",
       " 'ὅπερ',\n",
       " 'ὅς',\n",
       " 'ὅσ',\n",
       " 'ὅστις',\n",
       " 'ὅστισ',\n",
       " 'ὅτε',\n",
       " 'ὅτι',\n",
       " 'ὑμόσ',\n",
       " 'ὑπ',\n",
       " 'ὑπέρ',\n",
       " 'ὑπό',\n",
       " 'ὑπὲρ',\n",
       " 'ὑπὸ',\n",
       " 'ὡς',\n",
       " 'ὡσ',\n",
       " 'ὥς',\n",
       " 'ὥστε',\n",
       " 'ὦ',\n",
       " 'ᾧ'}"
      ]
     },
     "execution_count": 27,
     "metadata": {},
     "output_type": "execute_result"
    }
   ],
   "source": [
    "from nltk.corpus import stopwords\n",
    "a = set(stopwords.words(\"greek\"))\n",
    "a"
   ]
  },
  {
   "cell_type": "code",
   "execution_count": 35,
   "metadata": {},
   "outputs": [
    {
     "name": "stdout",
     "output_type": "stream",
     "text": [
      "['austen-emma.txt', 'austen-persuasion.txt', 'austen-sense.txt', 'bible-kjv.txt', 'blake-poems.txt', 'bryant-stories.txt', 'burgess-busterbrown.txt', 'carroll-alice.txt', 'chesterton-ball.txt', 'chesterton-brown.txt', 'chesterton-thursday.txt', 'edgeworth-parents.txt', 'melville-moby_dick.txt', 'milton-paradise.txt', 'shakespeare-caesar.txt', 'shakespeare-hamlet.txt', 'shakespeare-macbeth.txt', 'whitman-leaves.txt']\n",
      "['[', 'The', 'Tragedie', 'of', 'Hamlet', 'by', ...]\n",
      "[['[', 'The', 'Tragedie', 'of', 'Hamlet', 'by', 'William', 'Shakespeare', '1599', ']'], ['Actus', 'Primus', '.'], ...]\n",
      "[[['[', 'The', 'Tragedie', 'of', 'Hamlet', 'by', 'William', 'Shakespeare', '1599', ']']], [['Actus', 'Primus', '.'], ['Scoena', 'Prima', '.']], ...]\n"
     ]
    }
   ],
   "source": [
    "print(nltk.corpus.gutenberg.fileids())\n",
    "print(nltk.corpus.gutenberg.words('shakespeare-hamlet.txt'))\n",
    "print(nltk.corpus.gutenberg.sents('shakespeare-hamlet.txt'))\n",
    "print(nltk.corpus.gutenberg.paras('shakespeare-hamlet.txt'))"
   ]
  },
  {
   "cell_type": "code",
   "execution_count": 43,
   "metadata": {},
   "outputs": [
    {
     "name": "stdout",
     "output_type": "stream",
     "text": [
      "['adventure', 'belles_lettres', 'editorial', 'fiction', 'government', 'hobbies', 'humor', 'learned', 'lore', 'mystery', 'news', 'religion', 'reviews', 'romance', 'science_fiction']\n",
      "['The', 'Fulton', 'County', 'Grand', 'Jury', 'said', ...]\n"
     ]
    }
   ],
   "source": [
    "from nltk.corpus import brown\n",
    "print(brown.categories())\n",
    "print(brown.words(categories='news'))"
   ]
  },
  {
   "cell_type": "code",
   "execution_count": 45,
   "metadata": {},
   "outputs": [
    {
     "name": "stdout",
     "output_type": "stream",
     "text": [
      "N-grams of texts are extensively used in text mining and natural language processing tasks. They are basically a set of co-occurring words within a given window and when computing the n-grams you typically move one word forward.\n",
      "('Hello', 'welcome', 'to', 'the')\n",
      "('welcome', 'to', 'the', 'world')\n",
      "('to', 'the', 'world', 'of')\n",
      "('the', 'world', 'of', 'to')\n",
      "('world', 'of', 'to', 'learn')\n",
      "('of', 'to', 'learn', 'Categorizing')\n",
      "('to', 'learn', 'Categorizing', 'and')\n",
      "('learn', 'Categorizing', 'and', 'POS')\n",
      "('Categorizing', 'and', 'POS', 'Tagging')\n",
      "('and', 'POS', 'Tagging', 'with')\n",
      "('POS', 'Tagging', 'with', 'NLTK')\n",
      "('Tagging', 'with', 'NLTK', 'and')\n",
      "('with', 'NLTK', 'and', 'Python')\n"
     ]
    }
   ],
   "source": [
    "print(\"N-grams of texts are extensively used in text mining and natural language processing tasks. They are basically a set of co-occurring words within a given window and when computing the n-grams you typically move one word forward.\")\n",
    "from nltk import ngrams\n",
    "sentence = \"Hello welcome to the world of to learn Categorizing and POS Tagging with NLTK and Python\"\n",
    "n = 4\n",
    "sixgrams = ngrams(sentence.split(), n)\n",
    "for grams in sixgrams:\n",
    "    print (grams)"
   ]
  },
  {
   "cell_type": "code",
   "execution_count": null,
   "metadata": {},
   "outputs": [],
   "source": []
  }
 ],
 "metadata": {
  "kernelspec": {
   "display_name": "Python 3",
   "language": "python",
   "name": "python3"
  },
  "language_info": {
   "codemirror_mode": {
    "name": "ipython",
    "version": 3
   },
   "file_extension": ".py",
   "mimetype": "text/x-python",
   "name": "python",
   "nbconvert_exporter": "python",
   "pygments_lexer": "ipython3",
   "version": "3.7.3"
  }
 },
 "nbformat": 4,
 "nbformat_minor": 2
}
